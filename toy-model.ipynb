{
 "cells": [
  {
   "cell_type": "code",
   "execution_count": 1,
   "id": "5f4d3d25-b051-4813-8e03-8f4e664ab6c4",
   "metadata": {},
   "outputs": [
    {
     "name": "stderr",
     "output_type": "stream",
     "text": [
      "/home/colm.talbot/.conda/envs/o4-population/lib/python3.9/site-packages/tqdm/auto.py:22: TqdmWarning: IProgress not found. Please update jupyter and ipywidgets. See https://ipywidgets.readthedocs.io/en/stable/user_install.html\n",
      "  from .autonotebook import tqdm as notebook_tqdm\n"
     ]
    }
   ],
   "source": [
    "import dill\n",
    "import glob\n",
    "import h5py\n",
    "import matplotlib as mpl\n",
    "import matplotlib.pyplot as plt\n",
    "import numpy as np\n",
    "from cycler import cycler\n",
    "from scipy.linalg import block_diag\n",
    "from scipy.special import gamma, kv\n",
    "from scipy.stats import entropy, ks_1samp, uniform\n",
    "from tqdm.auto import trange\n",
    "\n",
    "%matplotlib inline"
   ]
  },
  {
   "cell_type": "code",
   "execution_count": 2,
   "id": "6da8bf37-73cc-4569-bbb3-e1cb97432576",
   "metadata": {},
   "outputs": [],
   "source": [
    "def set_mpl():\n",
    "\n",
    "    mpl.rcParams[\"font.family\"] = \"serif\"\n",
    "    mpl.rcParams[\"font.serif\"] = \"Computer Modern Roman\"\n",
    "    mpl.rcParams[\"font.size\"] = 20\n",
    "    mpl.rcParams[\"text.usetex\"] = True\n",
    "    mpl.rcParams[\"grid.alpha\"] = 0\n",
    "\n",
    "    colorblind=[\"#0173B2\", \"#DE8F05\", \"#029E73\", \"#D55E00\", \"#CC78BC\", \"#CA9161\", \"#FBAFE4\", \"#949494\", \"#ECE133\", \"#56B4E9\"]\n",
    "    mpl.rcParams[\"axes.prop_cycle\"] = cycler(color=colorblind)\n",
    "\n",
    "set_mpl()"
   ]
  },
  {
   "cell_type": "code",
   "execution_count": 3,
   "id": "a55565f6-cd3f-43d9-8148-7bed7319361d",
   "metadata": {},
   "outputs": [],
   "source": [
    "def matern_kernel(xx, length, nu=5 / 2):\n",
    "    dists = np.abs(np.subtract.outer(xx, xx)) / length\n",
    "    if nu == 0.5:\n",
    "        K = np.exp(-dists)\n",
    "    elif nu == 1.5:\n",
    "        K = dists * 3**0.5\n",
    "        K = (1.0 + K) * np.exp(-K)\n",
    "    elif nu == 2.5:\n",
    "        K = dists * 5**0.5\n",
    "        K = (1.0 + K + K**2 / 3.0) * np.exp(-K)\n",
    "    elif nu == np.inf:\n",
    "        K = np.exp(-(dists**2) / 2.0)\n",
    "    else:  # general case; expensive to evaluate\n",
    "        K = dists\n",
    "        K[K == 0.0] += np.finfo(float).eps  # strict zeros result in nan\n",
    "        tmp = (2 * nu)**0.5 * K\n",
    "        K.fill((2 ** (1.0 - nu)) / gamma(nu))\n",
    "        K *= tmp**nu\n",
    "        K *= kv(nu, tmp)\n",
    "    return K\n",
    "\n",
    "def uncorrelated_kernel(xx, length=None):\n",
    "    xx = xx**0\n",
    "    K = np.add.outer(xx, xx) / 2\n",
    "    np.fill_diagonal(K, 1)\n",
    "    return K\n",
    "\n",
    "\n",
    "def perfect_correlation(xx, length=None):\n",
    "    xx = xx**0\n",
    "    K = np.add.outer(xx, xx) * 0.00 / 2\n",
    "    np.fill_diagonal(K, 1)\n",
    "    return K\n",
    "\n",
    "\n",
    "def blocked_kernel(xx, length):\n",
    "    length = int(np.log10(length) * 2) + 4\n",
    "    per_block = len(xx) // length\n",
    "    return block_diag(*(np.ones((per_block, per_block)) for _ in range(length)), np.ones((len(xx) - per_block * length, len(xx) - per_block * length)))"
   ]
  },
  {
   "cell_type": "code",
   "execution_count": 4,
   "id": "8a1c8962-03c1-4fd1-bfc5-9c6f42373c50",
   "metadata": {},
   "outputs": [
    {
     "name": "stderr",
     "output_type": "stream",
     "text": [
      "100%|██████████| 400/400 [00:15<00:00, 26.02it/s]\n",
      "100%|██████████| 400/400 [00:15<00:00, 25.63it/s]\n",
      "100%|██████████| 400/400 [00:16<00:00, 24.96it/s]\n",
      "100%|██████████| 400/400 [00:15<00:00, 25.71it/s]\n",
      "100%|██████████| 400/400 [00:14<00:00, 27.38it/s]\n",
      "100%|██████████| 400/400 [00:14<00:00, 26.83it/s]\n",
      "100%|██████████| 400/400 [00:15<00:00, 25.16it/s]\n",
      "100%|██████████| 400/400 [00:15<00:00, 26.51it/s]\n",
      "100%|██████████| 400/400 [00:14<00:00, 26.87it/s]\n",
      "100%|██████████| 400/400 [00:15<00:00, 25.35it/s]\n",
      "100%|██████████| 400/400 [00:16<00:00, 24.09it/s]\n",
      "100%|██████████| 400/400 [00:15<00:00, 25.79it/s]\n"
     ]
    }
   ],
   "source": [
    "n_samples = 100\n",
    "var = 1\n",
    "length = 1\n",
    "\n",
    "all_quants = list()\n",
    "all_pvals = list()\n",
    "\n",
    "samples = np.linspace(-3, 3, n_samples)\n",
    "true_ln_likelihood = - samples**2 / 2 - np.log(2 * np.pi) / 2\n",
    "true_post = np.exp(true_ln_likelihood)\n",
    "true_post /= np.trapz(true_post, samples)\n",
    "\n",
    "for kernel_func in [blocked_kernel, matern_kernel, uncorrelated_kernel, perfect_correlation]:\n",
    "    quants = list()\n",
    "    pvals = list()\n",
    "\n",
    "    kernel_ = kernel_func(np.ones(n_samples), length)\n",
    "\n",
    "    for ll, length in enumerate([0.01, 0.1, 1]):\n",
    "        uncertainties = (np.random.gamma(4, 0.25, n_samples) * var)**1\n",
    "        if kernel_func == matern_kernel:\n",
    "            kernel = kernel_func(samples, length) * np.outer(uncertainties, uncertainties)**0.5\n",
    "        else:\n",
    "            kernel = kernel_ * np.outer(uncertainties, uncertainties)**0.5\n",
    "        covariance_ = kernel\n",
    "        rel_cov_ = np.add.outer(covariance_.diagonal(), covariance_.diagonal()) - 2 * covariance_\n",
    "        quant_ = np.trapz(np.trapz(np.outer(true_post, true_post) * rel_cov_, samples), samples)\n",
    "        try:\n",
    "            chol_ = np.linalg.cholesky(covariance_)\n",
    "        except np.linalg.LinAlgError:\n",
    "            chol_ = np.linalg.cholesky(covariance_ + 1e-10 * np.eye(n_samples))\n",
    "\n",
    "        for _ in trange(400):\n",
    "            target = 10**np.random.uniform(-2, 1.3)\n",
    "            covariance = covariance_ * target / quant_\n",
    "            rel_cov = rel_cov_ * target / quant_\n",
    "            chol = chol_ * (target / quant_)**0.5\n",
    "            quant = np.trapz(np.trapz(np.outer(true_post, true_post) * rel_cov, samples), samples)\n",
    "            var_ = np.trapz(np.trapz(np.outer(true_post, true_post) * covariance, samples), samples)\n",
    "            pvalues = list()\n",
    "            for _ in range(100):\n",
    "                truth = np.random.normal(0, 1)\n",
    "                errors = chol @ np.random.normal(0, 1, n_samples)\n",
    "                ln_likelihood = true_ln_likelihood + errors  # * abs(samples)**1 / 2\n",
    "                post = np.exp(ln_likelihood)\n",
    "                post /= np.trapz(post, samples)\n",
    "                pvalues.append(np.trapz(post * (samples <= truth), samples))\n",
    "            quants.append(np.log10(quant))\n",
    "            pval = ks_1samp(pvalues, uniform(0, 1).cdf).pvalue\n",
    "            pvals.append(pval)\n",
    "    all_quants.append(quants)\n",
    "    all_pvals.append(pvals)"
   ]
  },
  {
   "cell_type": "code",
   "execution_count": 5,
   "id": "9bd0d490-1895-42a8-9cb7-0f5d8162c4da",
   "metadata": {},
   "outputs": [
    {
     "data": {
      "image/png": "[encoded data removed]",
      "text/plain": [
       "<Figure size 640x480 with 3 Axes>"
      ]
     },
     "metadata": {},
     "output_type": "display_data"
    }
   ],
   "source": [
    "fig = plt.figure(layout=\"constrained\")\n",
    "axes = fig.subplot_mosaic(\n",
    "    \"\"\"\n",
    "    a\n",
    "    b\n",
    "    \"\"\",\n",
    "    height_ratios=[1, 4],\n",
    "    sharex=True,\n",
    ")\n",
    "\n",
    "plt.sca(axes[\"b\"])\n",
    "\n",
    "plt.hist2d(np.array(all_quants).flatten(), np.array(all_pvals).flatten(), bins=20, norm=mpl.colors.LogNorm())\n",
    "plt.xlabel(\"$\\\\langle \\\\Delta \\\\ln \\\\hat{\\\\cal L} \\\\rangle$\")\n",
    "plt.ylabel(\"$p_{\\\\rm value}$\")\n",
    "plt.colorbar()\n",
    "plt.xticks([-2, -1, 0, 1], [f\"$10^{{{val}}}$\" for val in [-2, -1, 0, 1]])\n",
    "plt.xticks(np.log10([\n",
    "    1e-2, 2e-2, 3e-2, 4e-2, 5e-2, 6e-2, 7e-2, 8e-2, 9e-2,\n",
    "    1e-1, 2e-1, 3e-1, 4e-1, 5e-1, 6e-1, 7e-1, 8e-1, 9e-1,\n",
    "    1, 2, 3, 4, 5, 6, 7, 8, 9, 10, 20\n",
    "]), minor=True)\n",
    "\n",
    "plt.sca(axes[\"a\"])\n",
    "\n",
    "_pvalues = list()\n",
    "_xvals = np.linspace(-2, np.log10(20), 21)\n",
    "for lower in _xvals[:-1]:\n",
    "    keep = (lower <= np.array(all_quants).flatten()) & (lower + 0.1 >= np.array(all_quants).flatten())\n",
    "    _pvalues.append(ks_1samp(np.array(all_pvals).flatten()[keep], uniform(0, 1).cdf).pvalue)\n",
    "\n",
    "_xvals = (_xvals[1:] + _xvals[:-1]) / 2\n",
    "plt.scatter(_xvals, _pvalues)\n",
    "plt.ylabel(\"$\\hat{p}_{\\\\rm value}$\")\n",
    "plt.savefig(\"figure-1.pdf\")\n",
    "plt.show()\n",
    "plt.close()"
   ]
  },
  {
   "cell_type": "code",
   "execution_count": null,
   "id": "a3e66296-cb26-4271-98f1-39dfbc979846",
   "metadata": {},
   "outputs": [],
   "source": []
  }
 ],
 "metadata": {
  "kernelspec": {
   "display_name": "O4 Population",
   "language": "python",
   "name": "o4-population"
  },
  "language_info": {
   "codemirror_mode": {
    "name": "ipython",
    "version": 3
   },
   "file_extension": ".py",
   "mimetype": "text/x-python",
   "name": "python",
   "nbconvert_exporter": "python",
   "pygments_lexer": "ipython3",
   "version": "3.9.12"
  }
 },
 "nbformat": 4,
 "nbformat_minor": 5
}
