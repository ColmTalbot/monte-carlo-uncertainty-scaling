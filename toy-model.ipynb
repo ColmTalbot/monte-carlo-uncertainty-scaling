{
 "cells": [
  {
   "cell_type": "code",
   "execution_count": 1,
   "id": "5f4d3d25-b051-4813-8e03-8f4e664ab6c4",
   "metadata": {},
   "outputs": [],
   "source": [
    "import matplotlib as mpl\n",
    "import matplotlib.pyplot as plt\n",
    "import numpy as np\n",
    "from cycler import cycler\n",
    "from scipy.linalg import block_diag\n",
    "from scipy.special import gamma, kv\n",
    "from scipy.stats import ks_1samp, uniform\n",
    "from tqdm.auto import trange\n",
    "\n",
    "%matplotlib inline\n",
    "plt.style.use([\"paper.mplstyle\"])"
   ]
  },
  {
   "cell_type": "code",
   "execution_count": 2,
   "id": "a55565f6-cd3f-43d9-8148-7bed7319361d",
   "metadata": {},
   "outputs": [],
   "source": [
    "def matern_kernel(xx, length, nu=5 / 2):\n",
    "    dists = np.abs(np.subtract.outer(xx, xx)) / length\n",
    "    if nu == 0.5:\n",
    "        K = np.exp(-dists)\n",
    "    elif nu == 1.5:\n",
    "        K = dists * 3**0.5\n",
    "        K = (1.0 + K) * np.exp(-K)\n",
    "    elif nu == 2.5:\n",
    "        K = dists * 5**0.5\n",
    "        K = (1.0 + K + K**2 / 3.0) * np.exp(-K)\n",
    "    elif nu == np.inf:\n",
    "        K = np.exp(-(dists**2) / 2.0)\n",
    "    else:  # general case; expensive to evaluate\n",
    "        K = dists\n",
    "        K[K == 0.0] += np.finfo(float).eps  # strict zeros result in nan\n",
    "        tmp = (2 * nu)**0.5 * K\n",
    "        K.fill((2 ** (1.0 - nu)) / gamma(nu))\n",
    "        K *= tmp**nu\n",
    "        K *= kv(nu, tmp)\n",
    "    return K\n",
    "\n",
    "def uncorrelated_kernel(xx, length=None):\n",
    "    xx = xx**0\n",
    "    K = np.add.outer(xx, xx) / 2\n",
    "    np.fill_diagonal(K, 1)\n",
    "    return K\n",
    "\n",
    "\n",
    "def perfect_correlation(xx, length=None):\n",
    "    xx = xx**0\n",
    "    K = np.add.outer(xx, xx) * 0.00 / 2\n",
    "    np.fill_diagonal(K, 1)\n",
    "    return K\n",
    "\n",
    "\n",
    "def blocked_kernel(xx, length):\n",
    "    length = int(np.log10(length) * 2) + 4\n",
    "    per_block = len(xx) // length\n",
    "    return block_diag(*(np.ones((per_block, per_block)) for _ in range(length)), np.ones((len(xx) - per_block * length, len(xx) - per_block * length)))"
   ]
  },
  {
   "cell_type": "code",
   "execution_count": 3,
   "id": "8a1c8962-03c1-4fd1-bfc5-9c6f42373c50",
   "metadata": {},
   "outputs": [
    {
     "data": {
      "application/json": {
       "ascii": false,
       "bar_format": null,
       "colour": null,
       "elapsed": 0.008278608322143555,
       "initial": 0,
       "n": 0,
       "ncols": null,
       "nrows": null,
       "postfix": null,
       "prefix": "",
       "rate": null,
       "total": 400,
       "unit": "it",
       "unit_divisor": 1000,
       "unit_scale": false
      },
      "application/vnd.jupyter.widget-view+json": {
       "model_id": "33592f643386489bae34246c8c0ac203",
       "version_major": 2,
       "version_minor": 0
      },
      "text/plain": [
       "  0%|          | 0/400 [00:00<?, ?it/s]"
      ]
     },
     "metadata": {},
     "output_type": "display_data"
    },
    {
     "data": {
      "application/json": {
       "ascii": false,
       "bar_format": null,
       "colour": null,
       "elapsed": 0.008713245391845703,
       "initial": 0,
       "n": 0,
       "ncols": null,
       "nrows": null,
       "postfix": null,
       "prefix": "",
       "rate": null,
       "total": 400,
       "unit": "it",
       "unit_divisor": 1000,
       "unit_scale": false
      },
      "application/vnd.jupyter.widget-view+json": {
       "model_id": "25024791502945dba7df32051877a6b8",
       "version_major": 2,
       "version_minor": 0
      },
      "text/plain": [
       "  0%|          | 0/400 [00:00<?, ?it/s]"
      ]
     },
     "metadata": {},
     "output_type": "display_data"
    },
    {
     "data": {
      "application/json": {
       "ascii": false,
       "bar_format": null,
       "colour": null,
       "elapsed": 0.014990091323852539,
       "initial": 0,
       "n": 0,
       "ncols": null,
       "nrows": null,
       "postfix": null,
       "prefix": "",
       "rate": null,
       "total": 400,
       "unit": "it",
       "unit_divisor": 1000,
       "unit_scale": false
      },
      "application/vnd.jupyter.widget-view+json": {
       "model_id": "555b05b3f5334e4aac544d8b8682f8c8",
       "version_major": 2,
       "version_minor": 0
      },
      "text/plain": [
       "  0%|          | 0/400 [00:00<?, ?it/s]"
      ]
     },
     "metadata": {},
     "output_type": "display_data"
    },
    {
     "data": {
      "application/json": {
       "ascii": false,
       "bar_format": null,
       "colour": null,
       "elapsed": 0.008096933364868164,
       "initial": 0,
       "n": 0,
       "ncols": null,
       "nrows": null,
       "postfix": null,
       "prefix": "",
       "rate": null,
       "total": 400,
       "unit": "it",
       "unit_divisor": 1000,
       "unit_scale": false
      },
      "application/vnd.jupyter.widget-view+json": {
       "model_id": "5829246150e444f48863e3abfaebb50e",
       "version_major": 2,
       "version_minor": 0
      },
      "text/plain": [
       "  0%|          | 0/400 [00:00<?, ?it/s]"
      ]
     },
     "metadata": {},
     "output_type": "display_data"
    },
    {
     "data": {
      "application/json": {
       "ascii": false,
       "bar_format": null,
       "colour": null,
       "elapsed": 0.005681514739990234,
       "initial": 0,
       "n": 0,
       "ncols": null,
       "nrows": null,
       "postfix": null,
       "prefix": "",
       "rate": null,
       "total": 400,
       "unit": "it",
       "unit_divisor": 1000,
       "unit_scale": false
      },
      "application/vnd.jupyter.widget-view+json": {
       "model_id": "d42e4da4eff24586b6ac4a439694c0a9",
       "version_major": 2,
       "version_minor": 0
      },
      "text/plain": [
       "  0%|          | 0/400 [00:00<?, ?it/s]"
      ]
     },
     "metadata": {},
     "output_type": "display_data"
    },
    {
     "data": {
      "application/json": {
       "ascii": false,
       "bar_format": null,
       "colour": null,
       "elapsed": 0.00882101058959961,
       "initial": 0,
       "n": 0,
       "ncols": null,
       "nrows": null,
       "postfix": null,
       "prefix": "",
       "rate": null,
       "total": 400,
       "unit": "it",
       "unit_divisor": 1000,
       "unit_scale": false
      },
      "application/vnd.jupyter.widget-view+json": {
       "model_id": "e98fafa2ee5d44b2805123964a644beb",
       "version_major": 2,
       "version_minor": 0
      },
      "text/plain": [
       "  0%|          | 0/400 [00:00<?, ?it/s]"
      ]
     },
     "metadata": {},
     "output_type": "display_data"
    },
    {
     "data": {
      "application/json": {
       "ascii": false,
       "bar_format": null,
       "colour": null,
       "elapsed": 0.009087800979614258,
       "initial": 0,
       "n": 0,
       "ncols": null,
       "nrows": null,
       "postfix": null,
       "prefix": "",
       "rate": null,
       "total": 400,
       "unit": "it",
       "unit_divisor": 1000,
       "unit_scale": false
      },
      "application/vnd.jupyter.widget-view+json": {
       "model_id": "7b497756815243909d99eda593d3ad4d",
       "version_major": 2,
       "version_minor": 0
      },
      "text/plain": [
       "  0%|          | 0/400 [00:00<?, ?it/s]"
      ]
     },
     "metadata": {},
     "output_type": "display_data"
    },
    {
     "data": {
      "application/json": {
       "ascii": false,
       "bar_format": null,
       "colour": null,
       "elapsed": 0.005581378936767578,
       "initial": 0,
       "n": 0,
       "ncols": null,
       "nrows": null,
       "postfix": null,
       "prefix": "",
       "rate": null,
       "total": 400,
       "unit": "it",
       "unit_divisor": 1000,
       "unit_scale": false
      },
      "application/vnd.jupyter.widget-view+json": {
       "model_id": "fd6cf326212f4196a8ade7eaaab0071f",
       "version_major": 2,
       "version_minor": 0
      },
      "text/plain": [
       "  0%|          | 0/400 [00:00<?, ?it/s]"
      ]
     },
     "metadata": {},
     "output_type": "display_data"
    },
    {
     "data": {
      "application/json": {
       "ascii": false,
       "bar_format": null,
       "colour": null,
       "elapsed": 0.0059506893157958984,
       "initial": 0,
       "n": 0,
       "ncols": null,
       "nrows": null,
       "postfix": null,
       "prefix": "",
       "rate": null,
       "total": 400,
       "unit": "it",
       "unit_divisor": 1000,
       "unit_scale": false
      },
      "application/vnd.jupyter.widget-view+json": {
       "model_id": "780afb534e044a87a0306d8cf5a5864f",
       "version_major": 2,
       "version_minor": 0
      },
      "text/plain": [
       "  0%|          | 0/400 [00:00<?, ?it/s]"
      ]
     },
     "metadata": {},
     "output_type": "display_data"
    },
    {
     "data": {
      "application/json": {
       "ascii": false,
       "bar_format": null,
       "colour": null,
       "elapsed": 0.008081674575805664,
       "initial": 0,
       "n": 0,
       "ncols": null,
       "nrows": null,
       "postfix": null,
       "prefix": "",
       "rate": null,
       "total": 400,
       "unit": "it",
       "unit_divisor": 1000,
       "unit_scale": false
      },
      "application/vnd.jupyter.widget-view+json": {
       "model_id": "3895e74c255f4d4880fcb54a54039f4b",
       "version_major": 2,
       "version_minor": 0
      },
      "text/plain": [
       "  0%|          | 0/400 [00:00<?, ?it/s]"
      ]
     },
     "metadata": {},
     "output_type": "display_data"
    },
    {
     "data": {
      "application/json": {
       "ascii": false,
       "bar_format": null,
       "colour": null,
       "elapsed": 0.006129741668701172,
       "initial": 0,
       "n": 0,
       "ncols": null,
       "nrows": null,
       "postfix": null,
       "prefix": "",
       "rate": null,
       "total": 400,
       "unit": "it",
       "unit_divisor": 1000,
       "unit_scale": false
      },
      "application/vnd.jupyter.widget-view+json": {
       "model_id": "3b6131e9f8524d07a4fe3bd386344a2b",
       "version_major": 2,
       "version_minor": 0
      },
      "text/plain": [
       "  0%|          | 0/400 [00:00<?, ?it/s]"
      ]
     },
     "metadata": {},
     "output_type": "display_data"
    },
    {
     "data": {
      "application/json": {
       "ascii": false,
       "bar_format": null,
       "colour": null,
       "elapsed": 0.00839543342590332,
       "initial": 0,
       "n": 0,
       "ncols": null,
       "nrows": null,
       "postfix": null,
       "prefix": "",
       "rate": null,
       "total": 400,
       "unit": "it",
       "unit_divisor": 1000,
       "unit_scale": false
      },
      "application/vnd.jupyter.widget-view+json": {
       "model_id": "45f3a793e62b4effaa2c4ef1a6e06a78",
       "version_major": 2,
       "version_minor": 0
      },
      "text/plain": [
       "  0%|          | 0/400 [00:00<?, ?it/s]"
      ]
     },
     "metadata": {},
     "output_type": "display_data"
    }
   ],
   "source": [
    "n_samples = 100\n",
    "var = 1\n",
    "length = 1\n",
    "\n",
    "all_quants = list()\n",
    "all_pvals = list()\n",
    "\n",
    "samples = np.linspace(-3, 3, n_samples)\n",
    "true_ln_likelihood = - samples**2 / 2 - np.log(2 * np.pi) / 2\n",
    "true_post = np.exp(true_ln_likelihood)\n",
    "true_post /= np.trapz(true_post, samples)\n",
    "\n",
    "for kernel_func in [blocked_kernel, matern_kernel, uncorrelated_kernel, perfect_correlation]:\n",
    "    quants = list()\n",
    "    pvals = list()\n",
    "\n",
    "    kernel_ = kernel_func(np.ones(n_samples), length)\n",
    "\n",
    "    for ll, length in enumerate([0.01, 0.1, 1]):\n",
    "        uncertainties = (np.random.gamma(4, 0.25, n_samples) * var)**1\n",
    "        if kernel_func == matern_kernel:\n",
    "            kernel = kernel_func(samples, length) * np.outer(uncertainties, uncertainties)**0.5\n",
    "        else:\n",
    "            kernel = kernel_ * np.outer(uncertainties, uncertainties)**0.5\n",
    "        covariance_ = kernel\n",
    "        rel_cov_ = np.add.outer(covariance_.diagonal(), covariance_.diagonal()) - 2 * covariance_\n",
    "        quant_ = np.trapz(np.trapz(np.outer(true_post, true_post) * rel_cov_, samples), samples)\n",
    "        try:\n",
    "            chol_ = np.linalg.cholesky(covariance_)\n",
    "        except np.linalg.LinAlgError:\n",
    "            chol_ = np.linalg.cholesky(covariance_ + 1e-10 * np.eye(n_samples))\n",
    "\n",
    "        for _ in trange(400):\n",
    "            target = 10**np.random.uniform(-2, 1.3)\n",
    "            covariance = covariance_ * target / quant_\n",
    "            rel_cov = rel_cov_ * target / quant_\n",
    "            chol = chol_ * (target / quant_)**0.5\n",
    "            quant = np.trapz(np.trapz(np.outer(true_post, true_post) * rel_cov, samples), samples)\n",
    "            var_ = np.trapz(np.trapz(np.outer(true_post, true_post) * covariance, samples), samples)\n",
    "            pvalues = list()\n",
    "            for _ in range(100):\n",
    "                truth = np.random.normal(0, 1)\n",
    "                errors = chol @ np.random.normal(0, 1, n_samples)\n",
    "                ln_likelihood = true_ln_likelihood + errors  # * abs(samples)**1 / 2\n",
    "                post = np.exp(ln_likelihood)\n",
    "                post /= np.trapz(post, samples)\n",
    "                pvalues.append(np.trapz(post * (samples <= truth), samples))\n",
    "            quants.append(np.log10(quant))\n",
    "            pval = ks_1samp(pvalues, uniform(0, 1).cdf).pvalue\n",
    "            pvals.append(pval)\n",
    "    all_quants.append(quants)\n",
    "    all_pvals.append(pvals)"
   ]
  },
  {
   "cell_type": "code",
   "execution_count": 4,
   "id": "9bd0d490-1895-42a8-9cb7-0f5d8162c4da",
   "metadata": {},
   "outputs": [
    {
     "data": {
      "image/png": "[encoded data removed]",
      "text/plain": [
       "<Figure size 640x480 with 3 Axes>"
      ]
     },
     "metadata": {},
     "output_type": "display_data"
    }
   ],
   "source": [
    "fig = plt.figure(layout=\"constrained\")\n",
    "axes = fig.subplots(\n",
    "    nrows=2,\n",
    "    ncols=1,\n",
    "    height_ratios=[1, 4],\n",
    "    sharex=True,\n",
    ")\n",
    "\n",
    "plt.sca(axes[1])\n",
    "\n",
    "plt.hist2d(np.array(all_quants).flatten(), np.array(all_pvals).flatten(), bins=20, norm=mpl.colors.LogNorm())\n",
    "plt.xlabel(\"$\\\\langle \\\\Delta \\\\ln \\\\hat{\\\\cal L} \\\\rangle$\")\n",
    "plt.ylabel(\"$p_{\\\\rm value}$\")\n",
    "plt.colorbar()\n",
    "plt.xticks([-2, -1, 0, 1], [f\"$10^{{{val}}}$\" for val in [-2, -1, 0, 1]])\n",
    "plt.xticks(np.log10([\n",
    "    1e-2, 2e-2, 3e-2, 4e-2, 5e-2, 6e-2, 7e-2, 8e-2, 9e-2,\n",
    "    1e-1, 2e-1, 3e-1, 4e-1, 5e-1, 6e-1, 7e-1, 8e-1, 9e-1,\n",
    "    1, 2, 3, 4, 5, 6, 7, 8, 9, 10, 20\n",
    "]), minor=True)\n",
    "\n",
    "plt.sca(axes[0])\n",
    "\n",
    "_pvalues = list()\n",
    "_xvals = np.linspace(-2, np.log10(20), 21)\n",
    "for lower in _xvals[:-1]:\n",
    "    keep = (lower <= np.array(all_quants).flatten()) & (lower + 0.1 >= np.array(all_quants).flatten())\n",
    "    _pvalues.append(ks_1samp(np.array(all_pvals).flatten()[keep], uniform(0, 1).cdf).pvalue)\n",
    "\n",
    "_xvals = (_xvals[1:] + _xvals[:-1]) / 2\n",
    "plt.scatter(_xvals, _pvalues)\n",
    "plt.ylabel(\"$\\hat{p}_{\\\\rm value}$\")\n",
    "plt.savefig(\"figure-1.pdf\")\n",
    "plt.show()\n",
    "plt.close()"
   ]
  },
  {
   "cell_type": "code",
   "execution_count": null,
   "id": "0e819a88-fae3-404d-92c1-c969b7de5ac0",
   "metadata": {},
   "outputs": [],
   "source": []
  }
 ],
 "metadata": {
  "kernelspec": {
   "display_name": "O4 Population",
   "language": "python",
   "name": "o4-population"
  },
  "language_info": {
   "codemirror_mode": {
    "name": "ipython",
    "version": 3
   },
   "file_extension": ".py",
   "mimetype": "text/x-python",
   "name": "python",
   "nbconvert_exporter": "python",
   "pygments_lexer": "ipython3",
   "version": "3.9.12"
  }
 },
 "nbformat": 4,
 "nbformat_minor": 5
}
